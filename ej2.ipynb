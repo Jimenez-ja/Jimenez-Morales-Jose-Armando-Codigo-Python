{
 "cells": [
  {
   "cell_type": "code",
   "execution_count": 34,
   "id": "77475490",
   "metadata": {},
   "outputs": [
    {
     "name": "stdout",
     "output_type": "stream",
     "text": [
      "Ingresa tu nombreJose Armando Jimenez Morales\n",
      "Ingresa tu telefono5510513047\n",
      "Ingresa tu correojimenezz.jose7@gmail.com\n",
      "Bienvenido  Jose Armando Jimenez Morales Tu telefono es:  5510513047 y tu correo es:  jimenezz.jose7@gmail.com\n"
     ]
    }
   ],
   "source": [
    "nombre =  input(\"Ingresa tu nombre\")\n",
    "tel =  input(\"Ingresa tu telefono\")\n",
    "correo = input(\"Ingresa tu correo\")\n",
    "print(\"Bienvenido \",  nombre, \"Tu telefono es: \", tel, \"y tu correo es: \", correo)"
   ]
  },
  {
   "cell_type": "code",
   "execution_count": null,
   "id": "ea5fba64",
   "metadata": {},
   "outputs": [],
   "source": []
  }
 ],
 "metadata": {
  "kernelspec": {
   "display_name": "Python 3",
   "language": "python",
   "name": "python3"
  },
  "language_info": {
   "codemirror_mode": {
    "name": "ipython",
    "version": 3
   },
   "file_extension": ".py",
   "mimetype": "text/x-python",
   "name": "python",
   "nbconvert_exporter": "python",
   "pygments_lexer": "ipython3",
   "version": "3.8.8"
  }
 },
 "nbformat": 4,
 "nbformat_minor": 5
}
