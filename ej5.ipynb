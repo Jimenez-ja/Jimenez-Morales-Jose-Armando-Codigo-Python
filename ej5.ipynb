{
 "cells": [
  {
   "cell_type": "code",
   "execution_count": 4,
   "id": "73f245d8",
   "metadata": {},
   "outputs": [
    {
     "name": "stdout",
     "output_type": "stream",
     "text": [
      "Ingresa el valor de la x cuadrada2\n",
      "Ingresa el valor de la x lineal-7\n",
      "Ingresa el valor independiente+3\n",
      "El resultado es:  x1=  3.0  x2=  0.5\n"
     ]
    }
   ],
   "source": [
    "from math import sqrt\n",
    "\n",
    "a =  int(input(\"Ingresa el valor de la x cuadrada\"))\n",
    "b =  int(input(\"Ingresa el valor de la x lineal\"))\n",
    "c = int(input(\"Ingresa el valor independiente\"))\n",
    "\n",
    "x1 = ( -(b) + (sqrt( (b**2) - (4 * a * c)   ))  )/(2*a)\n",
    "x2 = ( -(b) - (sqrt( (b**2) - (4 * a * c)   ))  )/(2*a)\n",
    "\n",
    "print(\"El resultado es:  x1= \", x1 , \" x2= \",x2)\n",
    "\n",
    "\n",
    "\n"
   ]
  },
  {
   "cell_type": "code",
   "execution_count": null,
   "id": "bcf9d907",
   "metadata": {},
   "outputs": [],
   "source": []
  }
 ],
 "metadata": {
  "kernelspec": {
   "display_name": "Python 3",
   "language": "python",
   "name": "python3"
  },
  "language_info": {
   "codemirror_mode": {
    "name": "ipython",
    "version": 3
   },
   "file_extension": ".py",
   "mimetype": "text/x-python",
   "name": "python",
   "nbconvert_exporter": "python",
   "pygments_lexer": "ipython3",
   "version": "3.8.8"
  }
 },
 "nbformat": 4,
 "nbformat_minor": 5
}
