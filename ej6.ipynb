{
 "cells": [
  {
   "cell_type": "code",
   "execution_count": 11,
   "id": "6b630288",
   "metadata": {},
   "outputs": [
    {
     "name": "stdout",
     "output_type": "stream",
     "text": [
      "Ingresa un numero= -1313141\n",
      "El numero es negativo\n"
     ]
    }
   ],
   "source": [
    "num =  int(input(\"Ingresa un numero= \"))\n",
    "\n",
    "\n",
    "if num < 0:\n",
    "    print(\"El numero es negativo\")\n",
    "elif num > 0:\n",
    "    print(\"el numero es positivo\")\n",
    "else :\n",
    "    print(\"El numero es 0\")"
   ]
  }
 ],
 "metadata": {
  "kernelspec": {
   "display_name": "Python 3",
   "language": "python",
   "name": "python3"
  },
  "language_info": {
   "codemirror_mode": {
    "name": "ipython",
    "version": 3
   },
   "file_extension": ".py",
   "mimetype": "text/x-python",
   "name": "python",
   "nbconvert_exporter": "python",
   "pygments_lexer": "ipython3",
   "version": "3.8.8"
  }
 },
 "nbformat": 4,
 "nbformat_minor": 5
}
