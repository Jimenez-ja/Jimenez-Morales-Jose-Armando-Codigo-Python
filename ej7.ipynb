{
 "cells": [
  {
   "cell_type": "code",
   "execution_count": 9,
   "id": "923c6e38",
   "metadata": {},
   "outputs": [
    {
     "name": "stdout",
     "output_type": "stream",
     "text": [
      "Ingresa la edad= 22\n",
      "Ingresa el monto total mensual de ingresos= 100\n",
      "Ingresa el monto total mensual de egresos= 10\n",
      "Ingresa la cantidad a prestar= 100\n",
      "Ingresa los meses a pagar= 2\n",
      "Eres acredor al prestamo \n",
      " Deberas pagar:  50.0 Al mes por:  2 mes(es)\n"
     ]
    }
   ],
   "source": [
    "edad =  int(input(\"Ingresa la edad= \"))\n",
    "ingresos =  float(input(\"Ingresa el monto total mensual de ingresos= \"))\n",
    "egresos =  float(input(\"Ingresa el monto total mensual de egresos= \"))\n",
    "cantidad = float(input(\"Ingresa la cantidad a prestar= \"))\n",
    "meses =  int(input(\"Ingresa los meses a pagar= \"))\n",
    "\n",
    "\n",
    "if edad >= 18:\n",
    "    if ingresos > egresos:\n",
    "        mesCuota =  cantidad / meses\n",
    "        resMensual =  ingresos -  egresos\n",
    "        if resMensual > mesCuota:\n",
    "            print(\"Eres acredor al prestamo \\n Deberas pagar: \", mesCuota, \"Al mes por: \" , meses, \"mes(es)\")\n",
    "        else:\n",
    "            print(\"No tienes los suficientes ingresos a fin de mes para el prestamo\")\n",
    "    else:\n",
    "        print(\"No tienes los suficientes ingresos para el prestamo\")\n",
    "else: \n",
    "    print(\"No cumples con la edad minima\")\n"
   ]
  },
  {
   "cell_type": "code",
   "execution_count": null,
   "id": "c936e61b",
   "metadata": {},
   "outputs": [],
   "source": []
  }
 ],
 "metadata": {
  "kernelspec": {
   "display_name": "Python 3",
   "language": "python",
   "name": "python3"
  },
  "language_info": {
   "codemirror_mode": {
    "name": "ipython",
    "version": 3
   },
   "file_extension": ".py",
   "mimetype": "text/x-python",
   "name": "python",
   "nbconvert_exporter": "python",
   "pygments_lexer": "ipython3",
   "version": "3.8.8"
  }
 },
 "nbformat": 4,
 "nbformat_minor": 5
}
