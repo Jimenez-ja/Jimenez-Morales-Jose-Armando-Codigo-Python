{
 "cells": [
  {
   "cell_type": "code",
   "execution_count": 5,
   "id": "15ee84fb",
   "metadata": {},
   "outputs": [
    {
     "name": "stdout",
     "output_type": "stream",
     "text": [
      "Ingresa el valor de la resistencia 1= 10000\n",
      "Ingresa el valor de la resistencia 2= 12131313\n",
      "La resistencia total es de:  9991.76365851041\n"
     ]
    }
   ],
   "source": [
    "r1 =  int(input(\"Ingresa el valor de la resistencia 1= \"))\n",
    "r2 =  int(input(\"Ingresa el valor de la resistencia 2= \"))\n",
    "rt = 1/( (1/r1) + (1/r2) )\n",
    "print(\"La resistencia total es de: \", rt)"
   ]
  },
  {
   "cell_type": "code",
   "execution_count": null,
   "id": "66d2a60f",
   "metadata": {},
   "outputs": [],
   "source": []
  }
 ],
 "metadata": {
  "kernelspec": {
   "display_name": "Python 3",
   "language": "python",
   "name": "python3"
  },
  "language_info": {
   "codemirror_mode": {
    "name": "ipython",
    "version": 3
   },
   "file_extension": ".py",
   "mimetype": "text/x-python",
   "name": "python",
   "nbconvert_exporter": "python",
   "pygments_lexer": "ipython3",
   "version": "3.8.8"
  }
 },
 "nbformat": 4,
 "nbformat_minor": 5
}
