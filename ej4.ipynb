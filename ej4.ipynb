{
 "cells": [
  {
   "cell_type": "code",
   "execution_count": 14,
   "id": "45603f9e",
   "metadata": {},
   "outputs": [
    {
     "name": "stdout",
     "output_type": "stream",
     "text": [
      "Ingresa el valor de la posicion 0,0 =2\n",
      "Ingresa el valor de la posicion 0,1= -3\n",
      "Ingresa el valor de la posicion 1,0= 1\n",
      "Ingresa el valor de la posicion 1,1= 5\n",
      "El determinante es:  13\n"
     ]
    }
   ],
   "source": [
    "matriz = [[0,0], [0,0]]\n",
    "matriz[0][0] =  int(input(\"Ingresa el valor de la posicion 0,0 =\"))\n",
    "matriz[0][1] =  int(input(\"Ingresa el valor de la posicion 0,1= \"))\n",
    "matriz[1][0] =  int(input(\"Ingresa el valor de la posicion 1,0= \"))\n",
    "matriz[1][1] =  int(input(\"Ingresa el valor de la posicion 1,1= \"))\n",
    "\n",
    "d =  (matriz[0][0] * matriz[1][1]) - (matriz[1][0]* matriz[0][1])\n",
    "\n",
    "print(\"El determinante es: \", d)\n"
   ]
  },
  {
   "cell_type": "code",
   "execution_count": null,
   "id": "53666588",
   "metadata": {},
   "outputs": [],
   "source": []
  },
  {
   "cell_type": "code",
   "execution_count": null,
   "id": "3fbbbe07",
   "metadata": {},
   "outputs": [],
   "source": []
  }
 ],
 "metadata": {
  "kernelspec": {
   "display_name": "Python 3",
   "language": "python",
   "name": "python3"
  },
  "language_info": {
   "codemirror_mode": {
    "name": "ipython",
    "version": 3
   },
   "file_extension": ".py",
   "mimetype": "text/x-python",
   "name": "python",
   "nbconvert_exporter": "python",
   "pygments_lexer": "ipython3",
   "version": "3.8.8"
  }
 },
 "nbformat": 4,
 "nbformat_minor": 5
}
