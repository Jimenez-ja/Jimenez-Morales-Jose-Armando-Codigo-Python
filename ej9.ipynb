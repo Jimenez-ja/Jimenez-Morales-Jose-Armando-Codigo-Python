{
 "cells": [
  {
   "cell_type": "code",
   "execution_count": 7,
   "id": "66182006",
   "metadata": {},
   "outputs": [
    {
     "name": "stdout",
     "output_type": "stream",
     "text": [
      "Ingresa una palabraanita lava la tina\n",
      "La palabra ingresada fue:  anita lava la tina \n",
      "La palabra al reves es: anit al aval atina\n"
     ]
    }
   ],
   "source": [
    "palabra =  input(\"Ingresa una palabra\");\n",
    "\n",
    "tam =len(palabra);\n",
    "alrv = \"\"\n",
    "\n",
    "for i in  range(tam):\n",
    "        alrv = alrv + palabra[(tam-1) - i ]\n",
    "\n",
    "print(\"La palabra ingresada fue: \", palabra, \"\\nLa palabra al reves es:\", alrv)"
   ]
  },
  {
   "cell_type": "code",
   "execution_count": null,
   "id": "dd817c5a",
   "metadata": {},
   "outputs": [],
   "source": []
  },
  {
   "cell_type": "code",
   "execution_count": null,
   "id": "1eaa4cad",
   "metadata": {},
   "outputs": [],
   "source": []
  }
 ],
 "metadata": {
  "kernelspec": {
   "display_name": "Python 3",
   "language": "python",
   "name": "python3"
  },
  "language_info": {
   "codemirror_mode": {
    "name": "ipython",
    "version": 3
   },
   "file_extension": ".py",
   "mimetype": "text/x-python",
   "name": "python",
   "nbconvert_exporter": "python",
   "pygments_lexer": "ipython3",
   "version": "3.8.8"
  }
 },
 "nbformat": 4,
 "nbformat_minor": 5
}
